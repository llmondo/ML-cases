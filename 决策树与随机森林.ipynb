{
 "cells": [
  {
   "cell_type": "markdown",
   "metadata": {},
   "source": [
    "# 决策树与随机森林"
   ]
  },
  {
   "cell_type": "code",
   "execution_count": null,
   "metadata": {},
   "outputs": [],
   "source": [
    "import matplotlib.pyplot as plt\n",
    "import os\n",
    "import pandas as pd\n",
    "import numpy as np\n",
    "from sklearn.datasets import load_iris\n",
    "from sklearn.model_selection import train_test_split\n",
    "from sklearn.preprocessing import StandardScaler\n",
    "\n"
   ]
  },
  {
   "cell_type": "code",
   "execution_count": null,
   "metadata": {},
   "outputs": [],
   "source": [
    "# 数字货币数据集导入\n",
    "data_dir = '../data/integration/'\n",
    "file = \"\"\n",
    "df = pd.read_csv(data_dir+file,index_col=0)"
   ]
  },
  {
   "cell_type": "code",
   "execution_count": null,
   "metadata": {},
   "outputs": [],
   "source": [
    "# X：Twitter官方账号发帖相关信息  Y：后一天币值变动\n",
    "X=df.iloc[:,:]\n",
    "y=df.iloc[:,:]\n",
    "X_train,X_test,y_train,y_test=train_test_split(X,y,test_size=0.3,random_state=0)\n",
    "\n",
    "# 数据标准化\n",
    "sc=StandardScaler()\n",
    "sc.fit(X_train)\n",
    "X_train_std=sc.transform(X_train)\n",
    "X_test_std=sc.transform(X_test)"
   ]
  },
  {
   "cell_type": "code",
   "execution_count": null,
   "metadata": {},
   "outputs": [],
   "source": []
  },
  {
   "cell_type": "code",
   "execution_count": null,
   "metadata": {},
   "outputs": [],
   "source": [
    "# 决策树库\n",
    "from sklearn.tree import DecisionTreeClassifier\n",
    "\n",
    "# 随机森林库\n",
    "from sklearn.ensemble import RandomForestClassifier\n",
    "\n",
    "# 计算准确率库\n",
    "from sklearn.metrics import accuracy_score"
   ]
  },
  {
   "cell_type": "markdown",
   "metadata": {},
   "source": [
    "## 决策树"
   ]
  },
  {
   "cell_type": "code",
   "execution_count": null,
   "metadata": {},
   "outputs": [],
   "source": [
    "# 利用训练数据集训练决策树模型\n",
    "classifier1=DecisionTreeClassifier()\n",
    "classifier1.fit(X_train,y_train.ravel())"
   ]
  },
  {
   "cell_type": "code",
   "execution_count": null,
   "metadata": {},
   "outputs": [],
   "source": [
    "# 利用训练好的模型预测测试数据集的结果\n",
    "y_pred1 = classifier1.predict(X_test)\n",
    "\n",
    "# 计算准确率\n",
    "acc = accuracy_score(y_test,y_pred1)\n",
    "\n",
    "# 输出结果\n",
    "print(\"the accuarcy of prediction is\", acc)"
   ]
  },
  {
   "cell_type": "markdown",
   "metadata": {},
   "source": [
    "## 随机森林"
   ]
  },
  {
   "cell_type": "code",
   "execution_count": null,
   "metadata": {},
   "outputs": [],
   "source": [
    "# 利用训练数据集训练随机森林模型\n",
    "classifier2=RandomForestClassifier()\n",
    "classifier2.fit(X_train,y_train.ravel())"
   ]
  },
  {
   "cell_type": "code",
   "execution_count": null,
   "metadata": {},
   "outputs": [],
   "source": [
    "# 利用训练好的模型预测测试数据集的结果\n",
    "y_pred2 = classifier2.predict(X_test)\n",
    "\n",
    "# 计算准确率\n",
    "acc = accuracy_score(y_test,y_pred2)\n",
    "\n",
    "# 输出结果\n",
    "print(\"the accuarcy of prediction is\", acc)"
   ]
  },
  {
   "cell_type": "code",
   "execution_count": null,
   "metadata": {},
   "outputs": [],
   "source": []
  }
 ],
 "metadata": {
  "kernelspec": {
   "display_name": "Python 3",
   "language": "python",
   "name": "python3"
  },
  "language_info": {
   "codemirror_mode": {
    "name": "ipython",
    "version": 3
   },
   "file_extension": ".py",
   "mimetype": "text/x-python",
   "name": "python",
   "nbconvert_exporter": "python",
   "pygments_lexer": "ipython3",
   "version": "3.7.1"
  }
 },
 "nbformat": 4,
 "nbformat_minor": 2
}
