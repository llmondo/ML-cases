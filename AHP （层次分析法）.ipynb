{
 "cells": [
  {
   "cell_type": "markdown",
   "metadata": {},
   "source": [
    "# 层次分析法\n",
    "运用AHP法进行决策时，需要经历以下4个步骤：\n",
    "* 建立系统的递阶层次结构；\n",
    "* 构造两两比较判断矩阵；（正互反矩阵）\n",
    "* 针对某一个标准，计算各备选元素的权重；\n",
    "* 计算当前一层元素关于总目标的排序权重。\n",
    "* 进行一致性检验。\n"
   ]
  },
  {
   "cell_type": "code",
   "execution_count": 1,
   "metadata": {},
   "outputs": [],
   "source": [
    "import numpy as np\n",
    "\n",
    "RI_dict = {1: 0, 2: 0, 3: 0.58, 4: 0.90, 5: 1.12, 6: 1.24, 7: 1.32, 8: 1.41, 9: 1.45,10:0.49}\n",
    "\n",
    "\n",
    "def get_w(array):\n",
    "    row = array.shape[0]  # 计算出阶数\n",
    "    a_axis_0_sum = array.sum(axis=0)\n",
    "    # print(a_axis_0_sum)\n",
    "    b = array / a_axis_0_sum  # 新的矩阵b\n",
    "    # print(b)\n",
    "    b_axis_0_sum = b.sum(axis=0)\n",
    "    b_axis_1_sum = b.sum(axis=1)  # 每一行的特征向量\n",
    "    # print(b_axis_1_sum)\n",
    "    w = b_axis_1_sum / row  # 归一化处理(特征向量)\n",
    "    nw = w * row\n",
    "    AW = (w * array).sum(axis=1)\n",
    "    # print(AW)\n",
    "    max_max = sum(AW / (row * w))\n",
    "    # print(max_max)\n",
    "    CI = (max_max - row) / (row - 1)\n",
    "    CR = CI / RI_dict[row]\n",
    "    if CR < 0.1:\n",
    "        print(round(CR, 3))\n",
    "        print('满足一致性')\n",
    "        # print(np.max(w))\n",
    "        # print(sorted(w,reverse=True))\n",
    "        # print(max_max)\n",
    "        # print('特征向量:%s' % w)\n",
    "        return w\n",
    "    else:\n",
    "        print(round(CR, 3))\n",
    "        print('不满足一致性，请进行修改')\n",
    "\n",
    "\n",
    "def main(array):\n",
    "    if type(array) is np.ndarray:\n",
    "        return get_w(array)\n",
    "    \n",
    "    else:\n",
    "        print('请输入numpy对象')"
   ]
  },
  {
   "cell_type": "code",
   "execution_count": 55,
   "metadata": {},
   "outputs": [
    {
     "data": {
      "text/plain": [
       "array([0.16344775, 0.10498091, 0.0354662 , 0.04987847, 0.0354662 ,\n",
       "       0.36086036, 0.24990011])"
      ]
     },
     "execution_count": 55,
     "metadata": {},
     "output_type": "execute_result"
    }
   ],
   "source": [
    "#示例\n",
    "urbanland=np.array([[1,2,5,4,5,1/3,1/2],\n",
    "                        [1/2,1,4,3,4,1/6,1/5],\n",
    "                        [1/5,1/4,1,1/2,1,1/7,1/6],\n",
    "                        [1/4,1/3,1/2,1,2,1/5,1/4],\n",
    "                        [1/5,1/4,1,1/2,1,1/7,1/6],\n",
    "                        [3,6,7,5,7,1,2],\n",
    "                        [2,5,6,4,6,1/2,1]])\n",
    "main(urbanland)"
   ]
  },
  {
   "cell_type": "code",
   "execution_count": 2,
   "metadata": {},
   "outputs": [
    {
     "name": "stdout",
     "output_type": "stream",
     "text": [
      "[0.31878206 0.23919592 0.44202202]\n"
     ]
    }
   ],
   "source": [
    "if __name__ == '__main__':\n",
    "    # 共有五个特征，故下列矩阵为5阶矩阵\n",
    "    e = np.array([[1, 2, 7, 5, 5], [1 / 2, 1, 4, 3, 3], [1 / 7, 1 / 4, 1, 1 / 2, 1 / 3], [1 / 5, 1 / 3, 2, 1, 1], [1 / 5, 1 / 3, 3, 1, 1]])\n",
    "    \n",
    "    #共三个比较对象，故下列矩阵均为3阶矩阵\n",
    "    a = np.array([[1, 1 / 3, 1 / 8], [3, 1, 1 / 3], [8, 3, 1]])\n",
    "    b = np.array([[1, 2, 5], [1 / 2, 1, 2], [1 / 5, 1 / 2, 1]])\n",
    "    c = np.array([[1, 1, 3], [1, 1, 3], [1 / 3, 1 / 3, 1]])\n",
    "    d = np.array([[1, 3, 4], [1 / 3, 1, 1], [1 / 4, 1, 1]])\n",
    "    f = np.array([[1, 4, 1 / 2], [1 / 4, 1, 1 / 4], [2, 4, 1]])\n",
    "    e = main(e)\n",
    "    a = main(a)\n",
    "    b = main(b)\n",
    "    c = main(c)\n",
    "    d = main(d)\n",
    "    f = main(f)\n",
    "    try:\n",
    "        res = np.array([a, b, c, d, f])\n",
    "        ret = (np.transpose(res) * e).sum(axis=1)\n",
    "        print(ret)\n",
    "    except TypeError:\n",
    "        print('数据有误，可能不满足一致性，请进行修改')"
   ]
  },
  {
   "cell_type": "code",
   "execution_count": null,
   "metadata": {},
   "outputs": [],
   "source": []
  }
 ],
 "metadata": {
  "kernelspec": {
   "display_name": "Python 3",
   "language": "python",
   "name": "python3"
  },
  "language_info": {
   "codemirror_mode": {
    "name": "ipython",
    "version": 3
   },
   "file_extension": ".py",
   "mimetype": "text/x-python",
   "name": "python",
   "nbconvert_exporter": "python",
   "pygments_lexer": "ipython3",
   "version": "3.7.1"
  }
 },
 "nbformat": 4,
 "nbformat_minor": 2
}
