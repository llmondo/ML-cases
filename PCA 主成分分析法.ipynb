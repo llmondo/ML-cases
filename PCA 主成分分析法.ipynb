{
 "cells": [
  {
   "cell_type": "code",
   "execution_count": null,
   "metadata": {},
   "outputs": [],
   "source": [
    "# sklearn库的PCA分析法：\n",
    "#https://scikit-learn.org/stable/modules/generated/sklearn.decomposition.PCA.html"
   ]
  },
  {
   "cell_type": "code",
   "execution_count": 1,
   "metadata": {},
   "outputs": [],
   "source": [
    "import numpy as np\n",
    "from sklearn.decomposition import PCA\n",
    "import pandas as pd"
   ]
  },
  {
   "cell_type": "code",
   "execution_count": null,
   "metadata": {},
   "outputs": [],
   "source": []
  },
  {
   "cell_type": "code",
   "execution_count": null,
   "metadata": {},
   "outputs": [],
   "source": [
    "matrix =[] #输入你的变量的矩阵"
   ]
  },
  {
   "cell_type": "code",
   "execution_count": 16,
   "metadata": {},
   "outputs": [
    {
     "name": "stdout",
     "output_type": "stream",
     "text": [
      "[[6.00000000e-01 8.00000000e-01 4.00000000e-01 0.00000000e+00]\n",
      " [4.00000000e-01 2.00000000e-01 1.00000000e+00 2.11413382e-04]\n",
      " [6.00000000e-01 2.00000000e-01 4.00000000e-01 1.61921683e-04]\n",
      " [4.00000000e-01 2.00000000e-01 8.00000000e-01 1.78928012e-04]\n",
      " [4.00000000e-01 2.00000000e-01 4.00000000e-01 3.19149505e-03]\n",
      " [6.00000000e-01 4.00000000e-01 6.00000000e-01 1.78162877e-04]\n",
      " [6.00000000e-01 4.00000000e-01 6.00000000e-01 2.89532405e-04]\n",
      " [4.00000000e-01 4.00000000e-01 4.00000000e-01 1.21551404e-04]\n",
      " [4.00000000e-01 6.00000000e-01 8.00000000e-01 6.65593644e-05]\n",
      " [4.00000000e-01 6.00000000e-01 4.00000000e-01 3.67506181e-04]\n",
      " [2.00000000e-01 6.00000000e-01 4.00000000e-01 3.02873213e-04]\n",
      " [4.00000000e-01 4.00000000e-01 6.00000000e-01 4.48029224e-04]\n",
      " [4.00000000e-01 2.00000000e-01 4.00000000e-01 7.68828519e-04]\n",
      " [4.00000000e-01 4.00000000e-01 6.00000000e-01 1.09767600e-03]\n",
      " [1.00000000e+00 1.00000000e+00 4.00000000e-01 8.05977819e-04]\n",
      " [4.00000000e-01 2.00000000e-01 8.00000000e-01 1.00000000e+00]\n",
      " [8.00000000e-01 6.00000000e-01 4.00000000e-01 2.83898946e-02]\n",
      " [6.00000000e-01 2.00000000e-01 6.00000000e-01 9.74052729e-02]\n",
      " [4.00000000e-01 2.00000000e-01 6.00000000e-01 5.49547578e-03]\n",
      " [2.00000000e-01 2.00000000e-01 6.00000000e-01 7.61731501e-02]\n",
      " [4.00000000e-01 2.00000000e-01 4.00000000e-01 3.04373003e-02]\n",
      " [4.00000000e-01 2.00000000e-01 4.00000000e-01 4.35816865e-02]\n",
      " [1.00000000e+00 1.00000000e+00 4.00000000e-01 3.82035625e-01]]\n",
      "[0.51984711 0.27181135]\n",
      "[1.4680929  1.06157216]\n",
      "2\n",
      "[[ 0.55684706  0.78388374 -0.27316332 -0.02880007]\n",
      " [ 0.16549705  0.02724387  0.31713515  0.9334312 ]]\n"
     ]
    }
   ],
   "source": [
    "\n",
    "X = np.array(matrix)\n",
    "print(X)\n",
    "pca = PCA(n_components='mle')#设为'mle'：则自动选取component的数量\n",
    "pca.fit(X)\n",
    "#PCA(copy=True, n_components=2, whiten=False) 结果\n",
    "print(pca.explained_variance_ratio_) \n",
    "#所得到的n个成分各自的方差百分比,这里可以理解为单个变量方差贡献率\n",
    "print(pca.singular_values_)  \n",
    "#所得到的新变量的系数\n",
    "print(pca.n_components_)\n",
    "n=pca.singular_values_\n",
    "#如何组合\n",
    "print(pca.components_ )\n",
    "each=pca.components_ \n"
   ]
  },
  {
   "cell_type": "code",
   "execution_count": 66,
   "metadata": {},
   "outputs": [],
   "source": [
    "coefficients=[]\n",
    "for i in range(4):\n",
    "    a=0\n",
    "    for j in range(len(n)):\n",
    "        a+=n[j]*each[j][i]\n",
    "    coefficients.append(a)"
   ]
  },
  {
   "cell_type": "code",
   "execution_count": null,
   "metadata": {},
   "outputs": [],
   "source": []
  }
 ],
 "metadata": {
  "kernelspec": {
   "display_name": "Python 3",
   "language": "python",
   "name": "python3"
  },
  "language_info": {
   "codemirror_mode": {
    "name": "ipython",
    "version": 3
   },
   "file_extension": ".py",
   "mimetype": "text/x-python",
   "name": "python",
   "nbconvert_exporter": "python",
   "pygments_lexer": "ipython3",
   "version": "3.7.1"
  }
 },
 "nbformat": 4,
 "nbformat_minor": 2
}
